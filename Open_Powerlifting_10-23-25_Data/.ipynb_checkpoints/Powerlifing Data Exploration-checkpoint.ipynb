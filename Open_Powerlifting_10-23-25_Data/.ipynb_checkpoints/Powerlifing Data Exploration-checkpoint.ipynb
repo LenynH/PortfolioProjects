{
 "cells": [
  {
   "cell_type": "markdown",
   "id": "57eafeea-1722-4d3f-88be-8b100924a14c",
   "metadata": {},
   "source": [
    "# Importing Necessary Libraries"
   ]
  },
  {
   "cell_type": "code",
   "execution_count": 1,
   "id": "ab721df4-f7d9-4242-b82e-f6af2fbac984",
   "metadata": {},
   "outputs": [],
   "source": [
    "import pandas as pd \n",
    "import numpy as np\n",
    "import matplotlib.pyplot as plt "
   ]
  },
  {
   "cell_type": "markdown",
   "id": "edc9b070-4390-4b94-824f-1631014ddb3b",
   "metadata": {},
   "source": [
    "# Reading and Examining Data"
   ]
  },
  {
   "cell_type": "code",
   "execution_count": 3,
   "id": "7bfa6237-aed4-40be-9462-8689a8f1827d",
   "metadata": {},
   "outputs": [
    {
     "name": "stderr",
     "output_type": "stream",
     "text": [
      "C:\\Users\\lenyn\\AppData\\Local\\Temp\\ipykernel_35004\\1157576055.py:3: DtypeWarning: Columns (33,35,38) have mixed types. Specify dtype option on import or set low_memory=False.\n",
      "  data = pd.read_csv(file)\n"
     ]
    }
   ],
   "source": [
    "# Reading in file and creating variable to store the data \n",
    "file = \"openpowerlifting-2025-10-25-db9cb483.csv\"\n",
    "data = pd.read_csv(file)"
   ]
  },
  {
   "cell_type": "code",
   "execution_count": 8,
   "id": "176f4133-899e-43ff-ab39-e406ed4c0991",
   "metadata": {},
   "outputs": [
    {
     "data": {
      "text/html": [
       "<div>\n",
       "<style scoped>\n",
       "    .dataframe tbody tr th:only-of-type {\n",
       "        vertical-align: middle;\n",
       "    }\n",
       "\n",
       "    .dataframe tbody tr th {\n",
       "        vertical-align: top;\n",
       "    }\n",
       "\n",
       "    .dataframe thead th {\n",
       "        text-align: right;\n",
       "    }\n",
       "</style>\n",
       "<table border=\"1\" class=\"dataframe\">\n",
       "  <thead>\n",
       "    <tr style=\"text-align: right;\">\n",
       "      <th></th>\n",
       "      <th>State</th>\n",
       "      <th>ParentFederation</th>\n",
       "      <th>MeetState</th>\n",
       "    </tr>\n",
       "  </thead>\n",
       "  <tbody>\n",
       "    <tr>\n",
       "      <th>0</th>\n",
       "      <td>NaN</td>\n",
       "      <td>NaN</td>\n",
       "      <td>NaN</td>\n",
       "    </tr>\n",
       "    <tr>\n",
       "      <th>1</th>\n",
       "      <td>NaN</td>\n",
       "      <td>NaN</td>\n",
       "      <td>NaN</td>\n",
       "    </tr>\n",
       "    <tr>\n",
       "      <th>2</th>\n",
       "      <td>NaN</td>\n",
       "      <td>NaN</td>\n",
       "      <td>NaN</td>\n",
       "    </tr>\n",
       "    <tr>\n",
       "      <th>3</th>\n",
       "      <td>NaN</td>\n",
       "      <td>NaN</td>\n",
       "      <td>NaN</td>\n",
       "    </tr>\n",
       "    <tr>\n",
       "      <th>4</th>\n",
       "      <td>NaN</td>\n",
       "      <td>NaN</td>\n",
       "      <td>NaN</td>\n",
       "    </tr>\n",
       "    <tr>\n",
       "      <th>...</th>\n",
       "      <td>...</td>\n",
       "      <td>...</td>\n",
       "      <td>...</td>\n",
       "    </tr>\n",
       "    <tr>\n",
       "      <th>3686133</th>\n",
       "      <td>NaN</td>\n",
       "      <td>IPF</td>\n",
       "      <td>NaN</td>\n",
       "    </tr>\n",
       "    <tr>\n",
       "      <th>3686134</th>\n",
       "      <td>NaN</td>\n",
       "      <td>IPF</td>\n",
       "      <td>NaN</td>\n",
       "    </tr>\n",
       "    <tr>\n",
       "      <th>3686135</th>\n",
       "      <td>NaN</td>\n",
       "      <td>IPF</td>\n",
       "      <td>NaN</td>\n",
       "    </tr>\n",
       "    <tr>\n",
       "      <th>3686136</th>\n",
       "      <td>NaN</td>\n",
       "      <td>IPF</td>\n",
       "      <td>NaN</td>\n",
       "    </tr>\n",
       "    <tr>\n",
       "      <th>3686137</th>\n",
       "      <td>NaN</td>\n",
       "      <td>IPF</td>\n",
       "      <td>NaN</td>\n",
       "    </tr>\n",
       "  </tbody>\n",
       "</table>\n",
       "<p>3686138 rows × 3 columns</p>\n",
       "</div>"
      ],
      "text/plain": [
       "        State ParentFederation MeetState\n",
       "0         NaN              NaN       NaN\n",
       "1         NaN              NaN       NaN\n",
       "2         NaN              NaN       NaN\n",
       "3         NaN              NaN       NaN\n",
       "4         NaN              NaN       NaN\n",
       "...       ...              ...       ...\n",
       "3686133   NaN              IPF       NaN\n",
       "3686134   NaN              IPF       NaN\n",
       "3686135   NaN              IPF       NaN\n",
       "3686136   NaN              IPF       NaN\n",
       "3686137   NaN              IPF       NaN\n",
       "\n",
       "[3686138 rows x 3 columns]"
      ]
     },
     "execution_count": 8,
     "metadata": {},
     "output_type": "execute_result"
    }
   ],
   "source": [
    "# Examining columns that flagged previous warning (mixed dtypes on cols 33, 35, and 38)\n",
    "data.iloc[:,[33,35,38]]"
   ]
  },
  {
   "cell_type": "code",
   "execution_count": 13,
   "id": "d62302b4-2994-4cfc-a8b7-f91d15371349",
   "metadata": {},
   "outputs": [
    {
     "name": "stdout",
     "output_type": "stream",
     "text": [
      "[nan 'NC' 'QC' 'OK' 'MD' 'IL' 'MA' 'AZ' 'ON' 'AB' 'OH' 'PA' 'IN' 'IA' 'GA'\n",
      " 'NJ' 'MI' 'MN' 'NY' 'CA' 'SK' 'WA' 'CO' 'TX' 'NH' 'FL' 'KY' 'BC' 'MO'\n",
      " 'WI' 'KS' 'CT' 'NE' 'NB' 'QLD' 'NSW' 'ACT' 'VIC' 'VA' 'WV' 'DE' 'TN' 'DC'\n",
      " 'HI' 'UT' 'AL' 'SC' 'VT' 'ND' 'NV' 'AK' 'MS' 'ME' 'NM' 'LA' 'AR' 'SA'\n",
      " 'TAS' 'NT' 'JY' 'CB' 'BA' 'NQ' 'SL' 'RN' 'SJ' 'MZ' 'CN' 'ER' 'TM' 'SF'\n",
      " 'WY' 'RI' 'SD' 'MT' 'ID' 'OR' 'NS' 'PE' 'NL' 'MB' 'VE' 'QT' 'CS' 'DF'\n",
      " 'CH' 'CM' 'SI' 'QR' 'YU' 'TB' 'SO' 'EM' 'NW' 'SM' 'BOP' 'AKL' 'Guam' 'GT'\n",
      " 'MP' 'WC' 'PR' 'RS' 'MG' 'SP' 'RJ' 'RR' 'GO' 'ES' 'PB' 'AP' 'AM' 'ZH'\n",
      " 'GE' 'WB' 'MH' 'JH' 'CG' 'GR' 'BS' 'JA' 'HG' 'AG' 'EC' 'KZN' 'FS' 'RO'\n",
      " 'WKO' 'HKB' 'CAN' 'NTL' 'WGN' 'MBH' 'SW' 'WM' 'YNE' 'GL' 'SE' 'GD' 'HUB'\n",
      " 'HEB' 'JX' 'JS' 'ZJ' 'AH' 'YN' 'FJ' 'JL' 'HEN' 'HUN' 'LN' 'LP' 'BY' 'HE'\n",
      " 'NRW' 'BW' 'MV' 'BB' 'RP' 'NI' 'YT' 'NU']\n",
      "\n",
      "[nan 'WPC' 'WRPF' 'WP' 'WPPL' 'IPF' 'GPA' 'UPC' 'WUAP' 'IPL' 'WPA' 'GPC'\n",
      " 'WPU' 'WPSF' 'XPC' 'IPA' 'WDFPF' 'WPO' 'IRP' 'RAW' 'IDFPA' 'WPF' 'IBSA'\n",
      " 'MM' 'WABDL' 'SPF']\n",
      "\n",
      "[nan 'QC' 'ON' 'NT' 'DF' 'DL' 'RJ' 'JA' 'KA' 'TUL' 'NY' 'VIC' 'NSW' 'NJ'\n",
      " 'QLD' 'GA' 'SAA' 'SC' 'JS' 'CQ' 'SH' 'HUN' 'HEN' 'XJ' 'GX' 'JX' 'GD' 'AH'\n",
      " 'BJ' 'ZJ' 'ARK' 'SA' 'TAS' 'ACT' 'WA' 'NL' 'FL' 'SK' 'NIZ' 'CO' 'PA' 'TX'\n",
      " 'HI' 'CA' 'NC' 'ID' 'AL' 'OH' 'KDA' 'WB' 'NGR' 'BOP' 'VLA' 'CAN' 'VA'\n",
      " 'WKO' 'IL' 'MA' 'TN' 'WV' 'MD' 'KY' 'IN' 'MI' 'DE' 'VT' 'ZE' 'NB' 'GR'\n",
      " 'ZH' 'GE' 'NH' 'UT' 'MOW' 'SPE' 'RS' 'FJ' 'HUB' 'SD' 'TJ' 'HEB' 'JL' 'SB'\n",
      " 'CN' 'CC' 'CB' 'SJ' 'BA' 'CH' 'BC' 'AZ' 'LEN' 'SVE' 'KO' 'ATT' 'KRS'\n",
      " 'KHA' 'ROS' 'KLU' 'SHJ' 'DXB' 'OK' 'NV' 'NE' 'IA' 'ME' 'AR' 'RI' 'LA'\n",
      " 'ULY' 'STA' 'VOR' 'TYU' 'YAR' 'SAR' 'KIR' 'PNZ' 'PRI' 'VGG' 'SAM' 'ALT'\n",
      " 'IRK' 'NVS' 'ZAB' 'AMU' 'ORE' 'RYA' 'TAM' 'IVA' 'PER' 'KYA' 'TA' 'CHE'\n",
      " 'KB' 'MO' 'CE' 'ORL' 'AK' 'AD' 'VLG' 'WG' 'CM' 'WM' 'EMT' 'CRE' 'PEL'\n",
      " 'AB' 'MB' 'NS' 'PE' 'MT' 'MS' 'KS' 'OR' 'TL' 'SI' 'VE' 'YU' 'CS' 'EM'\n",
      " 'QT' 'AKL' 'ND' 'MN' 'BY' 'NM' 'HR' 'CT' 'DC' 'WI' 'WY' 'Guam' 'BRY' 'GT'\n",
      " 'WC' 'MP' 'PR' 'SP' 'MG' 'HE' 'BW' 'NRW' 'HH' 'LI' 'WGN' 'RM' 'MH' 'KL'\n",
      " 'OMS' 'LIP' 'UD' 'TVE' 'YEV' 'BEL' 'SMO' 'YAN' 'MAG' 'KHM' 'KEM' 'KGN'\n",
      " 'MOS' 'SE' 'AST' 'RAK' 'FUJ' 'HG' 'TKI' 'MBH' 'YNE' 'OTA' 'HKB' 'NTL'\n",
      " 'OV' 'SW' 'KGD' 'KAM' 'CU' 'MUR' 'KOS' 'TOM' 'SAK' 'NW' 'SM' 'GL' 'SN'\n",
      " 'TH' 'ST' 'MV' 'BB' 'NI' 'RP' 'BE' 'KZN' 'FS' 'AT' 'PSK' 'MWT' 'STL'\n",
      " 'GIS' 'WTC' 'KR' 'ER' 'TM' 'SF' 'SL' 'JY' 'RN' 'SO']\n",
      "\n"
     ]
    }
   ],
   "source": [
    "print(f\"{data.iloc[:, 33].unique()}\\n\") \n",
    "print(f\"{data.iloc[:, 35].unique()}\\n\") \n",
    "print(f\"{data.iloc[:, 38].unique()}\\n\") "
   ]
  },
  {
   "cell_type": "code",
   "execution_count": null,
   "id": "b52237b1-1f02-4a39-baa4-bd536a72d393",
   "metadata": {},
   "outputs": [],
   "source": []
  }
 ],
 "metadata": {
  "kernelspec": {
   "display_name": "Python 3 (ipykernel)",
   "language": "python",
   "name": "python3"
  },
  "language_info": {
   "codemirror_mode": {
    "name": "ipython",
    "version": 3
   },
   "file_extension": ".py",
   "mimetype": "text/x-python",
   "name": "python",
   "nbconvert_exporter": "python",
   "pygments_lexer": "ipython3",
   "version": "3.13.5"
  }
 },
 "nbformat": 4,
 "nbformat_minor": 5
}
