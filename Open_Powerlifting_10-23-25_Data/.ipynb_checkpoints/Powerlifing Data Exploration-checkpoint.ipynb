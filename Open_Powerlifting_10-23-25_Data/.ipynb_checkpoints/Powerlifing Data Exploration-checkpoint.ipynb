{
 "cells": [
  {
   "cell_type": "markdown",
   "id": "57eafeea-1722-4d3f-88be-8b100924a14c",
   "metadata": {},
   "source": [
    "# Importing Necessary Libraries"
   ]
  },
  {
   "cell_type": "code",
   "execution_count": 1,
   "id": "ab721df4-f7d9-4242-b82e-f6af2fbac984",
   "metadata": {},
   "outputs": [],
   "source": [
    "import pandas as pd \n",
    "import numpy as np\n",
    "import matplotlib.pyplot as plt "
   ]
  },
  {
   "cell_type": "markdown",
   "id": "85e0c0c2-76a1-4267-b6a9-ea6efb3a8d92",
   "metadata": {},
   "source": [
    "# Cleaning and Preprocessing "
   ]
  },
  {
   "cell_type": "code",
   "execution_count": 2,
   "id": "7bfa6237-aed4-40be-9462-8689a8f1827d",
   "metadata": {},
   "outputs": [],
   "source": [
    "# Reading in a file and creating a variable to store the data \n",
    "file = \"openpowerlifting-2025-10-25-db9cb483.csv\"\n",
    "df = pd.read_csv(file, low_memory=False)"
   ]
  },
  {
   "cell_type": "markdown",
   "id": "13abe2bc-3b8d-4544-821d-acfa1feb5c0c",
   "metadata": {},
   "source": [
    "### *Addressing 'dtype' Warning from Initial read_csv Execution* "
   ]
  },
  {
   "cell_type": "code",
   "execution_count": 3,
   "id": "176f4133-899e-43ff-ab39-e406ed4c0991",
   "metadata": {},
   "outputs": [
    {
     "data": {
      "text/html": [
       "<div>\n",
       "<style scoped>\n",
       "    .dataframe tbody tr th:only-of-type {\n",
       "        vertical-align: middle;\n",
       "    }\n",
       "\n",
       "    .dataframe tbody tr th {\n",
       "        vertical-align: top;\n",
       "    }\n",
       "\n",
       "    .dataframe thead th {\n",
       "        text-align: right;\n",
       "    }\n",
       "</style>\n",
       "<table border=\"1\" class=\"dataframe\">\n",
       "  <thead>\n",
       "    <tr style=\"text-align: right;\">\n",
       "      <th></th>\n",
       "      <th>State</th>\n",
       "      <th>ParentFederation</th>\n",
       "      <th>MeetState</th>\n",
       "    </tr>\n",
       "  </thead>\n",
       "  <tbody>\n",
       "    <tr>\n",
       "      <th>0</th>\n",
       "      <td>NaN</td>\n",
       "      <td>NaN</td>\n",
       "      <td>NaN</td>\n",
       "    </tr>\n",
       "    <tr>\n",
       "      <th>1</th>\n",
       "      <td>NaN</td>\n",
       "      <td>NaN</td>\n",
       "      <td>NaN</td>\n",
       "    </tr>\n",
       "    <tr>\n",
       "      <th>2</th>\n",
       "      <td>NaN</td>\n",
       "      <td>NaN</td>\n",
       "      <td>NaN</td>\n",
       "    </tr>\n",
       "    <tr>\n",
       "      <th>3</th>\n",
       "      <td>NaN</td>\n",
       "      <td>NaN</td>\n",
       "      <td>NaN</td>\n",
       "    </tr>\n",
       "    <tr>\n",
       "      <th>4</th>\n",
       "      <td>NaN</td>\n",
       "      <td>NaN</td>\n",
       "      <td>NaN</td>\n",
       "    </tr>\n",
       "    <tr>\n",
       "      <th>...</th>\n",
       "      <td>...</td>\n",
       "      <td>...</td>\n",
       "      <td>...</td>\n",
       "    </tr>\n",
       "    <tr>\n",
       "      <th>3686133</th>\n",
       "      <td>NaN</td>\n",
       "      <td>IPF</td>\n",
       "      <td>NaN</td>\n",
       "    </tr>\n",
       "    <tr>\n",
       "      <th>3686134</th>\n",
       "      <td>NaN</td>\n",
       "      <td>IPF</td>\n",
       "      <td>NaN</td>\n",
       "    </tr>\n",
       "    <tr>\n",
       "      <th>3686135</th>\n",
       "      <td>NaN</td>\n",
       "      <td>IPF</td>\n",
       "      <td>NaN</td>\n",
       "    </tr>\n",
       "    <tr>\n",
       "      <th>3686136</th>\n",
       "      <td>NaN</td>\n",
       "      <td>IPF</td>\n",
       "      <td>NaN</td>\n",
       "    </tr>\n",
       "    <tr>\n",
       "      <th>3686137</th>\n",
       "      <td>NaN</td>\n",
       "      <td>IPF</td>\n",
       "      <td>NaN</td>\n",
       "    </tr>\n",
       "  </tbody>\n",
       "</table>\n",
       "<p>3686138 rows × 3 columns</p>\n",
       "</div>"
      ],
      "text/plain": [
       "        State ParentFederation MeetState\n",
       "0         NaN              NaN       NaN\n",
       "1         NaN              NaN       NaN\n",
       "2         NaN              NaN       NaN\n",
       "3         NaN              NaN       NaN\n",
       "4         NaN              NaN       NaN\n",
       "...       ...              ...       ...\n",
       "3686133   NaN              IPF       NaN\n",
       "3686134   NaN              IPF       NaN\n",
       "3686135   NaN              IPF       NaN\n",
       "3686136   NaN              IPF       NaN\n",
       "3686137   NaN              IPF       NaN\n",
       "\n",
       "[3686138 rows x 3 columns]"
      ]
     },
     "execution_count": 3,
     "metadata": {},
     "output_type": "execute_result"
    }
   ],
   "source": [
    "# Examining columns that flagged previous dtype warning (mixed dtypes on cols 33, 35, and 38)\n",
    "df.iloc[:,[33,35,38]]"
   ]
  },
  {
   "cell_type": "code",
   "execution_count": 4,
   "id": "d62302b4-2994-4cfc-a8b7-f91d15371349",
   "metadata": {},
   "outputs": [
    {
     "name": "stdout",
     "output_type": "stream",
     "text": [
      "[nan 'NC' 'QC' 'OK' 'MD' 'IL' 'MA' 'AZ' 'ON' 'AB' 'OH' 'PA' 'IN' 'IA' 'GA'\n",
      " 'NJ' 'MI' 'MN' 'NY' 'CA' 'SK' 'WA' 'CO' 'TX' 'NH' 'FL' 'KY' 'BC' 'MO'\n",
      " 'WI' 'KS' 'CT' 'NE' 'NB' 'QLD' 'NSW' 'ACT' 'VIC' 'VA' 'WV' 'DE' 'TN' 'DC'\n",
      " 'HI' 'UT' 'AL' 'SC' 'VT' 'ND' 'NV' 'AK' 'MS' 'ME' 'NM' 'LA' 'AR' 'SA'\n",
      " 'TAS' 'NT' 'JY' 'CB' 'BA' 'NQ' 'SL' 'RN' 'SJ' 'MZ' 'CN' 'ER' 'TM' 'SF'\n",
      " 'WY' 'RI' 'SD' 'MT' 'ID' 'OR' 'NS' 'PE' 'NL' 'MB' 'VE' 'QT' 'CS' 'DF'\n",
      " 'CH' 'CM' 'SI' 'QR' 'YU' 'TB' 'SO' 'EM' 'NW' 'SM' 'BOP' 'AKL' 'Guam' 'GT'\n",
      " 'MP' 'WC' 'PR' 'RS' 'MG' 'SP' 'RJ' 'RR' 'GO' 'ES' 'PB' 'AP' 'AM' 'ZH'\n",
      " 'GE' 'WB' 'MH' 'JH' 'CG' 'GR' 'BS' 'JA' 'HG' 'AG' 'EC' 'KZN' 'FS' 'RO'\n",
      " 'WKO' 'HKB' 'CAN' 'NTL' 'WGN' 'MBH' 'SW' 'WM' 'YNE' 'GL' 'SE' 'GD' 'HUB'\n",
      " 'HEB' 'JX' 'JS' 'ZJ' 'AH' 'YN' 'FJ' 'JL' 'HEN' 'HUN' 'LN' 'LP' 'BY' 'HE'\n",
      " 'NRW' 'BW' 'MV' 'BB' 'RP' 'NI' 'YT' 'NU']\n",
      "\n",
      "[nan 'WPC' 'WRPF' 'WP' 'WPPL' 'IPF' 'GPA' 'UPC' 'WUAP' 'IPL' 'WPA' 'GPC'\n",
      " 'WPU' 'WPSF' 'XPC' 'IPA' 'WDFPF' 'WPO' 'IRP' 'RAW' 'IDFPA' 'WPF' 'IBSA'\n",
      " 'MM' 'WABDL' 'SPF']\n",
      "\n",
      "[nan 'QC' 'ON' 'NT' 'DF' 'DL' 'RJ' 'JA' 'KA' 'TUL' 'NY' 'VIC' 'NSW' 'NJ'\n",
      " 'QLD' 'GA' 'SAA' 'SC' 'JS' 'CQ' 'SH' 'HUN' 'HEN' 'XJ' 'GX' 'JX' 'GD' 'AH'\n",
      " 'BJ' 'ZJ' 'ARK' 'SA' 'TAS' 'ACT' 'WA' 'NL' 'FL' 'SK' 'NIZ' 'CO' 'PA' 'TX'\n",
      " 'HI' 'CA' 'NC' 'ID' 'AL' 'OH' 'KDA' 'WB' 'NGR' 'BOP' 'VLA' 'CAN' 'VA'\n",
      " 'WKO' 'IL' 'MA' 'TN' 'WV' 'MD' 'KY' 'IN' 'MI' 'DE' 'VT' 'ZE' 'NB' 'GR'\n",
      " 'ZH' 'GE' 'NH' 'UT' 'MOW' 'SPE' 'RS' 'FJ' 'HUB' 'SD' 'TJ' 'HEB' 'JL' 'SB'\n",
      " 'CN' 'CC' 'CB' 'SJ' 'BA' 'CH' 'BC' 'AZ' 'LEN' 'SVE' 'KO' 'ATT' 'KRS'\n",
      " 'KHA' 'ROS' 'KLU' 'SHJ' 'DXB' 'OK' 'NV' 'NE' 'IA' 'ME' 'AR' 'RI' 'LA'\n",
      " 'ULY' 'STA' 'VOR' 'TYU' 'YAR' 'SAR' 'KIR' 'PNZ' 'PRI' 'VGG' 'SAM' 'ALT'\n",
      " 'IRK' 'NVS' 'ZAB' 'AMU' 'ORE' 'RYA' 'TAM' 'IVA' 'PER' 'KYA' 'TA' 'CHE'\n",
      " 'KB' 'MO' 'CE' 'ORL' 'AK' 'AD' 'VLG' 'WG' 'CM' 'WM' 'EMT' 'CRE' 'PEL'\n",
      " 'AB' 'MB' 'NS' 'PE' 'MT' 'MS' 'KS' 'OR' 'TL' 'SI' 'VE' 'YU' 'CS' 'EM'\n",
      " 'QT' 'AKL' 'ND' 'MN' 'BY' 'NM' 'HR' 'CT' 'DC' 'WI' 'WY' 'Guam' 'BRY' 'GT'\n",
      " 'WC' 'MP' 'PR' 'SP' 'MG' 'HE' 'BW' 'NRW' 'HH' 'LI' 'WGN' 'RM' 'MH' 'KL'\n",
      " 'OMS' 'LIP' 'UD' 'TVE' 'YEV' 'BEL' 'SMO' 'YAN' 'MAG' 'KHM' 'KEM' 'KGN'\n",
      " 'MOS' 'SE' 'AST' 'RAK' 'FUJ' 'HG' 'TKI' 'MBH' 'YNE' 'OTA' 'HKB' 'NTL'\n",
      " 'OV' 'SW' 'KGD' 'KAM' 'CU' 'MUR' 'KOS' 'TOM' 'SAK' 'NW' 'SM' 'GL' 'SN'\n",
      " 'TH' 'ST' 'MV' 'BB' 'NI' 'RP' 'BE' 'KZN' 'FS' 'AT' 'PSK' 'MWT' 'STL'\n",
      " 'GIS' 'WTC' 'KR' 'ER' 'TM' 'SF' 'SL' 'JY' 'RN' 'SO']\n",
      "\n"
     ]
    }
   ],
   "source": [
    "# Everything is a string except for the nan values; Will go back and make necessary adjustments to read CSV (adding low_memory parameter).\n",
    "print(f\"{df.iloc[:, 33].unique()}\\n\") \n",
    "print(f\"{df.iloc[:, 35].unique()}\\n\") \n",
    "print(f\"{df.iloc[:, 38].unique()}\\n\") "
   ]
  },
  {
   "cell_type": "markdown",
   "id": "8fe48a4e-59d3-4a20-a775-0be9b077f740",
   "metadata": {},
   "source": [
    "### *What does the dataset look like?* "
   ]
  },
  {
   "cell_type": "code",
   "execution_count": 5,
   "id": "b52237b1-1f02-4a39-baa4-bd536a72d393",
   "metadata": {},
   "outputs": [
    {
     "data": {
      "text/plain": [
       "(3686138, 42)"
      ]
     },
     "execution_count": 5,
     "metadata": {},
     "output_type": "execute_result"
    }
   ],
   "source": [
    "# Extremely large dataset\n",
    "df.shape"
   ]
  },
  {
   "cell_type": "code",
   "execution_count": 14,
   "id": "1e05b208-ac9e-4ee0-80a4-86397a4d17f1",
   "metadata": {
    "scrolled": true
   },
   "outputs": [
    {
     "name": "stdout",
     "output_type": "stream",
     "text": [
      "<class 'pandas.core.frame.DataFrame'>\n",
      "RangeIndex: 3686138 entries, 0 to 3686137\n",
      "Data columns (total 42 columns):\n",
      " #   Column            Dtype  \n",
      "---  ------            -----  \n",
      " 0   Name              object \n",
      " 1   Sex               object \n",
      " 2   Event             object \n",
      " 3   Equipment         object \n",
      " 4   Age               float64\n",
      " 5   AgeClass          object \n",
      " 6   BirthYearClass    object \n",
      " 7   Division          object \n",
      " 8   BodyweightKg      float64\n",
      " 9   WeightClassKg     object \n",
      " 10  Squat1Kg          float64\n",
      " 11  Squat2Kg          float64\n",
      " 12  Squat3Kg          float64\n",
      " 13  Squat4Kg          float64\n",
      " 14  Best3SquatKg      float64\n",
      " 15  Bench1Kg          float64\n",
      " 16  Bench2Kg          float64\n",
      " 17  Bench3Kg          float64\n",
      " 18  Bench4Kg          float64\n",
      " 19  Best3BenchKg      float64\n",
      " 20  Deadlift1Kg       float64\n",
      " 21  Deadlift2Kg       float64\n",
      " 22  Deadlift3Kg       float64\n",
      " 23  Deadlift4Kg       float64\n",
      " 24  Best3DeadliftKg   float64\n",
      " 25  TotalKg           float64\n",
      " 26  Place             object \n",
      " 27  Dots              float64\n",
      " 28  Wilks             float64\n",
      " 29  Glossbrenner      float64\n",
      " 30  Goodlift          float64\n",
      " 31  Tested            object \n",
      " 32  Country           object \n",
      " 33  State             object \n",
      " 34  Federation        object \n",
      " 35  ParentFederation  object \n",
      " 36  Date              object \n",
      " 37  MeetCountry       object \n",
      " 38  MeetState         object \n",
      " 39  MeetTown          object \n",
      " 40  MeetName          object \n",
      " 41  Sanctioned        object \n",
      "dtypes: float64(22), object(20)\n",
      "memory usage: 1.2+ GB\n"
     ]
    }
   ],
   "source": [
    "# Data types of each column.\n",
    "\"\"\"\" \n",
    "It appears that most columns are full of string dtypes or float64 dtypes.\n",
    "The data column should not be classified as 'Object', however.\n",
    "\"\"\"\n",
    "df.info()"
   ]
  },
  {
   "cell_type": "code",
   "execution_count": 29,
   "id": "04b7e18c-cb0c-49a9-aa6d-f623b0a11efa",
   "metadata": {},
   "outputs": [
    {
     "data": {
      "text/plain": [
       "0         2019-06-22\n",
       "1         2019-06-22\n",
       "2         2019-06-22\n",
       "3         2019-06-22\n",
       "4         2019-06-22\n",
       "             ...    \n",
       "3686133   2022-10-13\n",
       "3686134   2022-10-13\n",
       "3686135   2022-10-13\n",
       "3686136   2022-10-13\n",
       "3686137   2022-10-13\n",
       "Name: Date, Length: 3686138, dtype: datetime64[ns]"
      ]
     },
     "execution_count": 29,
     "metadata": {},
     "output_type": "execute_result"
    }
   ],
   "source": [
    "# Modifying Date column from str data type to datetime \n",
    "df['Date'] = pd.to_datetime(df['Date'])\n",
    "df['Date']"
   ]
  },
  {
   "cell_type": "code",
   "execution_count": 25,
   "id": "77ab5314-992e-4655-84f8-20845d012e08",
   "metadata": {},
   "outputs": [
    {
     "data": {
      "text/plain": [
       "Name                      0\n",
       "Sex                       0\n",
       "Event                     0\n",
       "Equipment                 0\n",
       "Age                 1348601\n",
       "AgeClass            1014378\n",
       "BirthYearClass      1270924\n",
       "Division               3386\n",
       "BodyweightKg          42805\n",
       "WeightClassKg         54175\n",
       "Squat1Kg            2519052\n",
       "Squat2Kg            2529974\n",
       "Squat3Kg            2558253\n",
       "Squat4Kg            3676682\n",
       "Best3SquatKg        1133948\n",
       "Bench1Kg            1973101\n",
       "Bench2Kg            1991466\n",
       "Bench3Kg            2041082\n",
       "Bench4Kg            3662807\n",
       "Best3BenchKg         421412\n",
       "Deadlift1Kg         2377479\n",
       "Deadlift2Kg         2398668\n",
       "Deadlift3Kg         2445772\n",
       "Deadlift4Kg         3659812\n",
       "Best3DeadliftKg      941089\n",
       "TotalKg              248361\n",
       "Place                     0\n",
       "Dots                 274268\n",
       "Wilks                274268\n",
       "Glossbrenner         274268\n",
       "Goodlift             560947\n",
       "Tested               904261\n",
       "Country             1603194\n",
       "State               2898955\n",
       "Federation                0\n",
       "ParentFederation    1433244\n",
       "Date                      0\n",
       "MeetCountry               0\n",
       "MeetState           1037820\n",
       "MeetTown             512129\n",
       "MeetName                  0\n",
       "Sanctioned                0\n",
       "dtype: int64"
      ]
     },
     "execution_count": 25,
     "metadata": {},
     "output_type": "execute_result"
    }
   ],
   "source": [
    "\"\"\"\"\n",
    "The documentation only lists Name, Sex, Event, Equipment, Place, Federation, Date, MeetCountry, and MeetName as mandatory. \n",
    "Every other column is optional and will have multiple missing values.\n",
    "\"\"\"\n",
    "df.isna().sum()"
   ]
  },
  {
   "cell_type": "code",
   "execution_count": null,
   "id": "20e0fcd5-c135-4ca1-9f06-708d15b45b65",
   "metadata": {},
   "outputs": [],
   "source": []
  },
  {
   "cell_type": "code",
   "execution_count": null,
   "id": "49220c4b-51d3-4fd5-97ed-496670529200",
   "metadata": {},
   "outputs": [],
   "source": []
  },
  {
   "cell_type": "markdown",
   "id": "ae1e1f07-fb4a-4bf1-9d2b-c12bf24873db",
   "metadata": {},
   "source": [
    "## *Exploring Full DataFrame* "
   ]
  },
  {
   "cell_type": "code",
   "execution_count": 7,
   "id": "ec260408-17a2-4a4c-b102-6097b149909e",
   "metadata": {},
   "outputs": [
    {
     "data": {
      "text/plain": [
       "array(['B', 'S', 'D', 'BD', 'SBD', 'SB', 'SD'], dtype=object)"
      ]
     },
     "execution_count": 7,
     "metadata": {},
     "output_type": "execute_result"
    }
   ],
   "source": [
    "# Columns of Interest \n",
    "    ## B: Bench, S: Squat, and D: Deadlift\n",
    "df['Event'].unique()"
   ]
  },
  {
   "cell_type": "code",
   "execution_count": 8,
   "id": "1994183d-7ae1-41c9-ac4a-4cd15a5dc4e3",
   "metadata": {},
   "outputs": [
    {
     "data": {
      "text/plain": [
       "Event\n",
       "SBD    2647054\n",
       "B       741507\n",
       "D       203068\n",
       "BD       70327\n",
       "S        18632\n",
       "SB        3382\n",
       "SD        2168\n",
       "Name: count, dtype: int64"
      ]
     },
     "execution_count": 8,
     "metadata": {},
     "output_type": "execute_result"
    }
   ],
   "source": [
    "    ## SBD events appear to be the most popular.\n",
    "pop_events = df['Event'].value_counts()\n",
    "pop_events\n"
   ]
  },
  {
   "cell_type": "code",
   "execution_count": 9,
   "id": "c75c7b25-b1d6-4452-b068-490b4e361879",
   "metadata": {},
   "outputs": [
    {
     "data": {
      "image/png": "[encoded data removed]",
      "text/plain": [
       "<Figure size 1500x500 with 1 Axes>"
      ]
     },
     "metadata": {},
     "output_type": "display_data"
    }
   ],
   "source": [
    "reverse_events = pop_events.sort_values(ascending=True) # Needed to properly display data in descending order\n",
    "\n",
    "figure, ax = plt.subplots(figsize = (15, 5))\n",
    "\n",
    "bar_graph = ax.barh(reverse_events.index, reverse_events)\n",
    "\n",
    "ax.set_title('Most Popular Powerlifting Events (Total Participants)', fontsize=20, pad = 25)\n",
    "ax.bar_label(bar_graph, reverse_events, padding=5)\n",
    "ax.spines[['top','right']].set_visible(False)\n",
    "\n",
    "plt.show()"
   ]
  },
  {
   "cell_type": "code",
   "execution_count": 10,
   "id": "b3e2a38b-11e8-497f-ad08-3d3504a0a912",
   "metadata": {},
   "outputs": [
    {
     "name": "stdout",
     "output_type": "stream",
     "text": [
      "['Open' 'Juniors 17-21' 'Disabled' ... 'Pro Youth 7' 'C10' 'C8']\n"
     ]
    },
    {
     "data": {
      "text/plain": [
       "5588"
      ]
     },
     "execution_count": 10,
     "metadata": {},
     "output_type": "execute_result"
    }
   ],
   "source": [
    "    ## Too many Division options; Which one has the most participants?\n",
    "print(df['Division'].unique())\n",
    "len(df['Division'].unique()) "
   ]
  },
  {
   "cell_type": "code",
   "execution_count": 11,
   "id": "7f5b2d8e-62a3-4abb-8206-2cf43d016c78",
   "metadata": {},
   "outputs": [
    {
     "data": {
      "text/plain": [
       "Division\n",
       "Open            962456\n",
       "Boys            482620\n",
       "Girls           288032\n",
       "Juniors         131559\n",
       "MR-O             98396\n",
       "Amateur Open     70078\n",
       "Sub-Juniors      68392\n",
       "Pro Open         64650\n",
       "FR-O             57017\n",
       "Masters 1        55197\n",
       "Name: count, dtype: int64"
      ]
     },
     "execution_count": 11,
     "metadata": {},
     "output_type": "execute_result"
    }
   ],
   "source": [
    "top_ten_divisions = df['Division'].value_counts().head(10)\n",
    "top_ten_divisions"
   ]
  },
  {
   "cell_type": "code",
   "execution_count": 12,
   "id": "6ceab675-5c34-49c9-bf53-b5084091ccde",
   "metadata": {},
   "outputs": [
    {
     "data": {
      "image/png": "[encoded data removed]",
      "text/plain": [
       "<Figure size 1500x500 with 1 Axes>"
      ]
     },
     "metadata": {},
     "output_type": "display_data"
    }
   ],
   "source": [
    "    ## The 'Open' division is by far the most popular\n",
    "    ## This is the main division for adults 24-39, but still allows participants outside this range to compete.\n",
    "\n",
    "reverse_divisions = top_ten_divisions.sort_values(ascending=True) # Needed to properly display data in descending order\n",
    "\n",
    "figure, ax = plt.subplots(figsize = (15, 5))\n",
    "\n",
    "bar_graph = ax.barh(reverse_divisions.index, reverse_divisions)\n",
    "\n",
    "ax.set_title('Most Popular Powerlifting Divisions (Total Participants)', fontsize=20, pad = 25)\n",
    "ax.bar_label(bar_graph, reverse_divisions, padding=5)\n",
    "ax.spines[['top','right']].set_visible(False)\n",
    "\n",
    "plt.show()"
   ]
  },
  {
   "cell_type": "code",
   "execution_count": 13,
   "id": "460262d4-6b0e-4dec-aa7e-5a82e30ec371",
   "metadata": {},
   "outputs": [
    {
     "name": "stdout",
     "output_type": "stream",
     "text": [
      "This data set ranges from 1964-09-05 to 2025-10-19.\n"
     ]
    }
   ],
   "source": [
    "    ## What Date Ranges does the data cover?\n",
    "print(f'This data set ranges from {min(df['Date'])} to {max(df['Date'])}.') "
   ]
  },
  {
   "cell_type": "code",
   "execution_count": null,
   "id": "fcdb2c6a-dac0-4bf0-9555-b114ddaa11d3",
   "metadata": {},
   "outputs": [],
   "source": []
  }
 ],
 "metadata": {
  "kernelspec": {
   "display_name": "Python 3 (ipykernel)",
   "language": "python",
   "name": "python3"
  },
  "language_info": {
   "codemirror_mode": {
    "name": "ipython",
    "version": 3
   },
   "file_extension": ".py",
   "mimetype": "text/x-python",
   "name": "python",
   "nbconvert_exporter": "python",
   "pygments_lexer": "ipython3",
   "version": "3.13.5"
  }
 },
 "nbformat": 4,
 "nbformat_minor": 5
}
