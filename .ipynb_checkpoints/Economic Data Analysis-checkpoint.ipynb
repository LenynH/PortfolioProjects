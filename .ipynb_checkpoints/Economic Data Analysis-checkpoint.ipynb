{
 "cells": [
  {
   "cell_type": "code",
   "execution_count": 7,
   "id": "de73fbaa-7fc2-43da-83ab-fc7e8cfbf212",
   "metadata": {},
   "outputs": [
    {
     "name": "stdout",
     "output_type": "stream",
     "text": [
      "Requirement already satisfied: fredapi in c:\\users\\lenyn\\anaconda3\\lib\\site-packages (0.5.2)\n",
      "Requirement already satisfied: pandas in c:\\users\\lenyn\\anaconda3\\lib\\site-packages (from fredapi) (2.2.3)\n",
      "Requirement already satisfied: numpy>=1.26.0 in c:\\users\\lenyn\\anaconda3\\lib\\site-packages (from pandas->fredapi) (2.1.3)\n",
      "Requirement already satisfied: python-dateutil>=2.8.2 in c:\\users\\lenyn\\anaconda3\\lib\\site-packages (from pandas->fredapi) (2.9.0.post0)\n",
      "Requirement already satisfied: pytz>=2020.1 in c:\\users\\lenyn\\anaconda3\\lib\\site-packages (from pandas->fredapi) (2024.1)\n",
      "Requirement already satisfied: tzdata>=2022.7 in c:\\users\\lenyn\\anaconda3\\lib\\site-packages (from pandas->fredapi) (2025.2)\n",
      "Requirement already satisfied: six>=1.5 in c:\\users\\lenyn\\anaconda3\\lib\\site-packages (from python-dateutil>=2.8.2->pandas->fredapi) (1.17.0)\n",
      "Note: you may need to restart the kernel to use updated packages.\n"
     ]
    }
   ],
   "source": [
    "pip install  fredapi"
   ]
  },
  {
   "cell_type": "code",
   "execution_count": 10,
   "id": "17f528b5-c503-4374-9206-18bebccf0320",
   "metadata": {},
   "outputs": [],
   "source": [
    "import pandas as pd \n",
    "import numpy as np\n",
    "import matplotlib.pyplot as plt\n",
    "import plotly.express as px\n",
    "\n",
    "plt.style.use('fivethirtyeight')\n",
    "pd.set_option('display.max_columns', 500)\n",
    "color_pal = plt.rcParams['axes.prop_cycle'].by_key()['color']\n",
    "\n",
    "from fredapi import Fred"
   ]
  },
  {
   "cell_type": "code",
   "execution_count": 9,
   "id": "5d41363c-f6b1-4531-b426-3ef22ca70daf",
   "metadata": {},
   "outputs": [
    {
     "name": "stdout",
     "output_type": "stream",
     "text": [
      "c3e07baf8b36e7b3618f9d7b75c6e5c4\n"
     ]
    }
   ],
   "source": [
    "api_file = \"C:/Users/lenyn/OneDrive/Desktop/PortfolioProjects/Economic_Data_Analysis_Project/Fred_API_Key.txt\"\n",
    "with open(api_file, 'r') as file: \n",
    "    fred_key = file.read()"
   ]
  },
  {
   "cell_type": "markdown",
   "id": "2305b608-9cd1-4a8f-b5d5-77d4249a044e",
   "metadata": {},
   "source": [
    "# 1. Create The Fred Object "
   ]
  },
  {
   "cell_type": "code",
   "execution_count": 12,
   "id": "fdcd0246-61d1-4b1d-a387-0ec477755606",
   "metadata": {},
   "outputs": [
    {
     "data": {
      "text/plain": [
       "<fredapi.fred.Fred at 0x261dd7a6850>"
      ]
     },
     "execution_count": 12,
     "metadata": {},
     "output_type": "execute_result"
    }
   ],
   "source": [
    "fred = Fred(api_key=fred_key)\n",
    "fred"
   ]
  },
  {
   "cell_type": "markdown",
   "id": "b0392ca7-73d7-4e24-a003-90e3242e162d",
   "metadata": {},
   "source": [
    "# 2. Search for Economic Data"
   ]
  },
  {
   "cell_type": "code",
   "execution_count": 16,
   "id": "fb559230-7f2c-430c-a738-a672b065e06f",
   "metadata": {},
   "outputs": [],
   "source": [
    "sp_search = fred.search('S&P', order_by='popularity')"
   ]
  },
  {
   "cell_type": "code",
   "execution_count": 18,
   "id": "d96c2ccf-3edf-4439-a406-54a84370446b",
   "metadata": {},
   "outputs": [
    {
     "data": {
      "text/html": [
       "<div>\n",
       "<style scoped>\n",
       "    .dataframe tbody tr th:only-of-type {\n",
       "        vertical-align: middle;\n",
       "    }\n",
       "\n",
       "    .dataframe tbody tr th {\n",
       "        vertical-align: top;\n",
       "    }\n",
       "\n",
       "    .dataframe thead th {\n",
       "        text-align: right;\n",
       "    }\n",
       "</style>\n",
       "<table border=\"1\" class=\"dataframe\">\n",
       "  <thead>\n",
       "    <tr style=\"text-align: right;\">\n",
       "      <th></th>\n",
       "      <th>id</th>\n",
       "      <th>realtime_start</th>\n",
       "      <th>realtime_end</th>\n",
       "      <th>title</th>\n",
       "      <th>observation_start</th>\n",
       "      <th>observation_end</th>\n",
       "      <th>frequency</th>\n",
       "      <th>frequency_short</th>\n",
       "      <th>units</th>\n",
       "      <th>units_short</th>\n",
       "      <th>seasonal_adjustment</th>\n",
       "      <th>seasonal_adjustment_short</th>\n",
       "      <th>last_updated</th>\n",
       "      <th>popularity</th>\n",
       "      <th>notes</th>\n",
       "    </tr>\n",
       "    <tr>\n",
       "      <th>series id</th>\n",
       "      <th></th>\n",
       "      <th></th>\n",
       "      <th></th>\n",
       "      <th></th>\n",
       "      <th></th>\n",
       "      <th></th>\n",
       "      <th></th>\n",
       "      <th></th>\n",
       "      <th></th>\n",
       "      <th></th>\n",
       "      <th></th>\n",
       "      <th></th>\n",
       "      <th></th>\n",
       "      <th></th>\n",
       "      <th></th>\n",
       "    </tr>\n",
       "  </thead>\n",
       "  <tbody>\n",
       "    <tr>\n",
       "      <th>BAMLH0A0HYM2</th>\n",
       "      <td>BAMLH0A0HYM2</td>\n",
       "      <td>2025-10-25</td>\n",
       "      <td>2025-10-25</td>\n",
       "      <td>ICE BofA US High Yield Index Option-Adjusted S...</td>\n",
       "      <td>1996-12-31</td>\n",
       "      <td>2025-10-23</td>\n",
       "      <td>Daily, Close</td>\n",
       "      <td>D</td>\n",
       "      <td>Percent</td>\n",
       "      <td>%</td>\n",
       "      <td>Not Seasonally Adjusted</td>\n",
       "      <td>NSA</td>\n",
       "      <td>2025-10-24 09:11:52-05:00</td>\n",
       "      <td>99</td>\n",
       "      <td>The ICE BofA Option-Adjusted Spreads (OASs) ar...</td>\n",
       "    </tr>\n",
       "    <tr>\n",
       "      <th>SP500</th>\n",
       "      <td>SP500</td>\n",
       "      <td>2025-10-25</td>\n",
       "      <td>2025-10-25</td>\n",
       "      <td>S&amp;P 500</td>\n",
       "      <td>2015-10-26</td>\n",
       "      <td>2025-10-24</td>\n",
       "      <td>Daily, Close</td>\n",
       "      <td>D</td>\n",
       "      <td>Index</td>\n",
       "      <td>Index</td>\n",
       "      <td>Not Seasonally Adjusted</td>\n",
       "      <td>NSA</td>\n",
       "      <td>2025-10-24 19:01:58-05:00</td>\n",
       "      <td>91</td>\n",
       "      <td>The observations for the S&amp;P 500 represent the...</td>\n",
       "    </tr>\n",
       "    <tr>\n",
       "      <th>CSUSHPINSA</th>\n",
       "      <td>CSUSHPINSA</td>\n",
       "      <td>2025-10-25</td>\n",
       "      <td>2025-10-25</td>\n",
       "      <td>S&amp;P CoreLogic Case-Shiller U.S. National Home ...</td>\n",
       "      <td>1987-01-01</td>\n",
       "      <td>2025-07-01</td>\n",
       "      <td>Monthly</td>\n",
       "      <td>M</td>\n",
       "      <td>Index Jan 2000=100</td>\n",
       "      <td>Index Jan 2000=100</td>\n",
       "      <td>Not Seasonally Adjusted</td>\n",
       "      <td>NSA</td>\n",
       "      <td>2025-09-30 08:11:02-05:00</td>\n",
       "      <td>87</td>\n",
       "      <td>For more information regarding the index, plea...</td>\n",
       "    </tr>\n",
       "    <tr>\n",
       "      <th>BAMLH0A0HYM2EY</th>\n",
       "      <td>BAMLH0A0HYM2EY</td>\n",
       "      <td>2025-10-25</td>\n",
       "      <td>2025-10-25</td>\n",
       "      <td>ICE BofA US High Yield Index Effective Yield</td>\n",
       "      <td>1996-12-31</td>\n",
       "      <td>2025-10-23</td>\n",
       "      <td>Daily, Close</td>\n",
       "      <td>D</td>\n",
       "      <td>Percent</td>\n",
       "      <td>%</td>\n",
       "      <td>Not Seasonally Adjusted</td>\n",
       "      <td>NSA</td>\n",
       "      <td>2025-10-24 09:11:56-05:00</td>\n",
       "      <td>86</td>\n",
       "      <td>This data represents the effective yield of th...</td>\n",
       "    </tr>\n",
       "    <tr>\n",
       "      <th>BAMLC0A0CM</th>\n",
       "      <td>BAMLC0A0CM</td>\n",
       "      <td>2025-10-25</td>\n",
       "      <td>2025-10-25</td>\n",
       "      <td>ICE BofA US Corporate Index Option-Adjusted Sp...</td>\n",
       "      <td>1996-12-31</td>\n",
       "      <td>2025-10-23</td>\n",
       "      <td>Daily, Close</td>\n",
       "      <td>D</td>\n",
       "      <td>Percent</td>\n",
       "      <td>%</td>\n",
       "      <td>Not Seasonally Adjusted</td>\n",
       "      <td>NSA</td>\n",
       "      <td>2025-10-24 09:13:04-05:00</td>\n",
       "      <td>85</td>\n",
       "      <td>The ICE BofA Option-Adjusted Spreads (OASs) ar...</td>\n",
       "    </tr>\n",
       "  </tbody>\n",
       "</table>\n",
       "</div>"
      ],
      "text/plain": [
       "                            id realtime_start realtime_end  \\\n",
       "series id                                                    \n",
       "BAMLH0A0HYM2      BAMLH0A0HYM2     2025-10-25   2025-10-25   \n",
       "SP500                    SP500     2025-10-25   2025-10-25   \n",
       "CSUSHPINSA          CSUSHPINSA     2025-10-25   2025-10-25   \n",
       "BAMLH0A0HYM2EY  BAMLH0A0HYM2EY     2025-10-25   2025-10-25   \n",
       "BAMLC0A0CM          BAMLC0A0CM     2025-10-25   2025-10-25   \n",
       "\n",
       "                                                            title  \\\n",
       "series id                                                           \n",
       "BAMLH0A0HYM2    ICE BofA US High Yield Index Option-Adjusted S...   \n",
       "SP500                                                     S&P 500   \n",
       "CSUSHPINSA      S&P CoreLogic Case-Shiller U.S. National Home ...   \n",
       "BAMLH0A0HYM2EY       ICE BofA US High Yield Index Effective Yield   \n",
       "BAMLC0A0CM      ICE BofA US Corporate Index Option-Adjusted Sp...   \n",
       "\n",
       "               observation_start observation_end     frequency  \\\n",
       "series id                                                        \n",
       "BAMLH0A0HYM2          1996-12-31      2025-10-23  Daily, Close   \n",
       "SP500                 2015-10-26      2025-10-24  Daily, Close   \n",
       "CSUSHPINSA            1987-01-01      2025-07-01       Monthly   \n",
       "BAMLH0A0HYM2EY        1996-12-31      2025-10-23  Daily, Close   \n",
       "BAMLC0A0CM            1996-12-31      2025-10-23  Daily, Close   \n",
       "\n",
       "               frequency_short               units         units_short  \\\n",
       "series id                                                                \n",
       "BAMLH0A0HYM2                 D             Percent                   %   \n",
       "SP500                        D               Index               Index   \n",
       "CSUSHPINSA                   M  Index Jan 2000=100  Index Jan 2000=100   \n",
       "BAMLH0A0HYM2EY               D             Percent                   %   \n",
       "BAMLC0A0CM                   D             Percent                   %   \n",
       "\n",
       "                    seasonal_adjustment seasonal_adjustment_short  \\\n",
       "series id                                                           \n",
       "BAMLH0A0HYM2    Not Seasonally Adjusted                       NSA   \n",
       "SP500           Not Seasonally Adjusted                       NSA   \n",
       "CSUSHPINSA      Not Seasonally Adjusted                       NSA   \n",
       "BAMLH0A0HYM2EY  Not Seasonally Adjusted                       NSA   \n",
       "BAMLC0A0CM      Not Seasonally Adjusted                       NSA   \n",
       "\n",
       "                             last_updated popularity  \\\n",
       "series id                                              \n",
       "BAMLH0A0HYM2    2025-10-24 09:11:52-05:00         99   \n",
       "SP500           2025-10-24 19:01:58-05:00         91   \n",
       "CSUSHPINSA      2025-09-30 08:11:02-05:00         87   \n",
       "BAMLH0A0HYM2EY  2025-10-24 09:11:56-05:00         86   \n",
       "BAMLC0A0CM      2025-10-24 09:13:04-05:00         85   \n",
       "\n",
       "                                                            notes  \n",
       "series id                                                          \n",
       "BAMLH0A0HYM2    The ICE BofA Option-Adjusted Spreads (OASs) ar...  \n",
       "SP500           The observations for the S&P 500 represent the...  \n",
       "CSUSHPINSA      For more information regarding the index, plea...  \n",
       "BAMLH0A0HYM2EY  This data represents the effective yield of th...  \n",
       "BAMLC0A0CM      The ICE BofA Option-Adjusted Spreads (OASs) ar...  "
      ]
     },
     "execution_count": 18,
     "metadata": {},
     "output_type": "execute_result"
    }
   ],
   "source": [
    "sp_search.head()"
   ]
  },
  {
   "cell_type": "markdown",
   "id": "400ad93a-18d1-49a1-a90c-5dfb4de70329",
   "metadata": {},
   "source": [
    "# 3. Pull Raw Data with Plotting"
   ]
  },
  {
   "cell_type": "code",
   "execution_count": 21,
   "id": "5b4c791d-726c-4986-acbb-aa8263fd650b",
   "metadata": {},
   "outputs": [],
   "source": [
    "sp500 = fred.get_series(series_id='SP500')"
   ]
  },
  {
   "cell_type": "code",
   "execution_count": 24,
   "id": "fda6ce3a-c0a9-4636-80f2-66e4bd613600",
   "metadata": {},
   "outputs": [
    {
     "data": {
      "text/plain": [
       "<Axes: title={'center': 'S&P 500'}>"
      ]
     },
     "execution_count": 24,
     "metadata": {},
     "output_type": "execute_result"
    },
    {
     "data": {
      "image/png": "[encoded data removed]",
      "text/plain": [
       "<Figure size 1000x500 with 1 Axes>"
      ]
     },
     "metadata": {},
     "output_type": "display_data"
    }
   ],
   "source": [
    "sp500.plot(figsize=(10, 5), title='S&P 500', lw=2)"
   ]
  },
  {
   "cell_type": "markdown",
   "id": "4b648a43-ffa0-4e3c-8762-707a33e6c366",
   "metadata": {},
   "source": [
    "# 4. Pull and Join Multiple Data Series"
   ]
  },
  {
   "cell_type": "code",
   "execution_count": null,
   "id": "14dda7fc-6666-4fc9-8897-21fea4bdb55d",
   "metadata": {},
   "outputs": [],
   "source": []
  }
 ],
 "metadata": {
  "kernelspec": {
   "display_name": "Python 3 (ipykernel)",
   "language": "python",
   "name": "python3"
  },
  "language_info": {
   "codemirror_mode": {
    "name": "ipython",
    "version": 3
   },
   "file_extension": ".py",
   "mimetype": "text/x-python",
   "name": "python",
   "nbconvert_exporter": "python",
   "pygments_lexer": "ipython3",
   "version": "3.13.5"
  }
 },
 "nbformat": 4,
 "nbformat_minor": 5
}
